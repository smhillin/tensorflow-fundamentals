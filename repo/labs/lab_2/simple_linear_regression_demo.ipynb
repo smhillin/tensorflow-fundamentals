{
 "cells": [
  {
   "cell_type": "markdown",
   "metadata": {},
   "source": [
    "# Simple Linear Regression with Tensorflow\n",
    "\n",
    "In this lab we will practice running a simple linear regression model with Tensorflow.  This will allow us to get familiar with the tensors or components that are involved using tensorflow."
   ]
  },
  {
   "cell_type": "code",
   "execution_count": 2,
   "metadata": {},
   "outputs": [
    {
     "name": "stderr",
     "output_type": "stream",
     "text": [
      "/anaconda3/lib/python3.6/site-packages/h5py/__init__.py:34: FutureWarning: Conversion of the second argument of issubdtype from `float` to `np.floating` is deprecated. In future, it will be treated as `np.float64 == np.dtype(float).type`.\n",
      "  from ._conv import register_converters as _register_converters\n"
     ]
    },
    {
     "name": "stdout",
     "output_type": "stream",
     "text": [
      "1.13.1\n"
     ]
    }
   ],
   "source": [
    "import numpy as np\n",
    "import matplotlib.pyplot as plt\n",
    "import tensorflow as tf\n",
    "print(tf.__version__)"
   ]
  },
  {
   "cell_type": "markdown",
   "metadata": {},
   "source": [
    "## Here we will generate and plot some random data and add some noise\n",
    "\n",
    "\n",
    "#### It is quite obvious from the graph that we have some sort of linear function that will define our data "
   ]
  },
  {
   "cell_type": "code",
   "execution_count": 3,
   "metadata": {},
   "outputs": [
    {
     "data": {
      "image/png": "[encoded data removed]",
      "text/plain": [
       "<matplotlib.figure.Figure at 0x181eab05c0>"
      ]
     },
     "metadata": {},
     "output_type": "display_data"
    }
   ],
   "source": [
    "#generate some data with noise\n",
    "np.random.seed(52) \n",
    "tf.set_random_seed(52) \n",
    "\n",
    "# Genrating random linear data \n",
    "# There will be 100 data points ranging from 0 to 50 \n",
    "x = np.linspace(0, 50, 100) \n",
    "y = np.linspace(0, 50, 100) \n",
    "  \n",
    "# Adding noise to the random linear data \n",
    "x += np.random.uniform(-4, 4, 100) \n",
    "y += np.random.uniform(-4, 4, 100) \n",
    "  \n",
    "n = len(x) # Number of data points \n",
    "\n",
    "# Plot of Training Data \n",
    "plt.scatter(x, y) \n",
    "plt.xlabel('x') \n",
    "plt.xlabel('y') \n",
    "plt.title(\"Training Data\") \n",
    "plt.show()"
   ]
  },
  {
   "cell_type": "markdown",
   "metadata": {},
   "source": [
    "## Next we define two placeholder and some variables\n",
    "\n",
    "These placeholders will be are a promise to provide a value later.  We will feed our data into this model using placeholders. \n",
    "\n",
    "The variables will be the weights and bias that we will be solving for.\n"
   ]
  },
  {
   "cell_type": "code",
   "execution_count": 4,
   "metadata": {},
   "outputs": [
    {
     "name": "stdout",
     "output_type": "stream",
     "text": [
      "WARNING:tensorflow:From /anaconda3/lib/python3.6/site-packages/tensorflow/python/framework/op_def_library.py:263: colocate_with (from tensorflow.python.framework.ops) is deprecated and will be removed in a future version.\n",
      "Instructions for updating:\n",
      "Colocations handled automatically by placer.\n"
     ]
    }
   ],
   "source": [
    "#defining the placeholders X and Y, \n",
    "#so that we can feed our training examples X and Y into the optimizer during the training process.\n",
    "X = tf.placeholder(\"float\") \n",
    "Y = tf.placeholder(\"float\")\n",
    "\n",
    "#defining the weight and bias\n",
    "W = tf.Variable(np.random.randn(), name = \"W\") \n",
    "b = tf.Variable(np.random.randn(), name = \"b\") "
   ]
  },
  {
   "cell_type": "markdown",
   "metadata": {},
   "source": [
    "## Here we define our model or graph.\n",
    "\n",
    "The hypothesis is a simple linear model\n",
    "\n",
    "The cost function is the mean squared error between the prediction and the actual y values.\n",
    "\n",
    "We use the gradient descent optimizer to minimize our cost function or the error between our predicted and actual y values."
   ]
  },
  {
   "cell_type": "code",
   "execution_count": 5,
   "metadata": {},
   "outputs": [
    {
     "name": "stdout",
     "output_type": "stream",
     "text": [
      "WARNING:tensorflow:From /anaconda3/lib/python3.6/site-packages/tensorflow/python/ops/losses/losses_impl.py:667: to_float (from tensorflow.python.ops.math_ops) is deprecated and will be removed in a future version.\n",
      "Instructions for updating:\n",
      "Use tf.cast instead.\n",
      "WARNING:tensorflow:From /anaconda3/lib/python3.6/site-packages/tensorflow/python/ops/math_ops.py:3066: to_int32 (from tensorflow.python.ops.math_ops) is deprecated and will be removed in a future version.\n",
      "Instructions for updating:\n",
      "Use tf.cast instead.\n"
     ]
    }
   ],
   "source": [
    "\n",
    "\n",
    "#hyper parameters for learning  rate and number of times we \n",
    "learning_rate = 0.01\n",
    "training_epochs = 1000\n",
    "\n",
    "# Hypothesis \n",
    "y_pred = tf.add(tf.multiply(X, W), b) \n",
    "  \n",
    "# Mean Squared Error Cost Function \n",
    "cost = tf.losses.mean_squared_error(Y, y_pred)\n",
    "  \n",
    "# Gradient Descent Optimizer \n",
    "optimizer = tf.train.GradientDescentOptimizer(learning_rate).minimize(cost) \n",
    "  \n",
    "# Global Variables Initializer \n",
    "init = tf.global_variables_initializer() \n",
    "\n",
    "\n"
   ]
  },
  {
   "cell_type": "markdown",
   "metadata": {},
   "source": [
    "## Here we train our model\n",
    "\n",
    "Remember that tensorf flow feeds matrices into the graph using the session.  We run the optimizer in the first session which starts a chain reaction of sorts as it needs the cost function and the cost function needs the hypothesis and the X and Y values that we feed in through the dictionary.\n",
    "\n",
    "With each epoch we should see the cost function converge by getting smaller and smaller."
   ]
  },
  {
   "cell_type": "code",
   "execution_count": 11,
   "metadata": {},
   "outputs": [
    {
     "name": "stdout",
     "output_type": "stream",
     "text": [
      "Epoch 50 : cost = 5.05782 W = 0.9641849 b = -0.43970925\n",
      "Epoch 100 : cost = 5.019143 W = 0.96174675 b = -0.31761327\n",
      "Epoch 150 : cost = 4.9886384 W = 0.95955753 b = -0.20798339\n",
      "Epoch 200 : cost = 4.9646497 W = 0.9575919 b = -0.10954659\n",
      "Epoch 250 : cost = 4.9458537 W = 0.95582694 b = -0.021160781\n",
      "Epoch 300 : cost = 4.931189 W = 0.9542422 b = 0.058200393\n",
      "Epoch 350 : cost = 4.9198055 W = 0.95281935 b = 0.12945835\n",
      "Epoch 400 : cost = 4.9110227 W = 0.95154166 b = 0.19344051\n",
      "Epoch 450 : cost = 4.904296 W = 0.95039445 b = 0.25088996\n",
      "Epoch 500 : cost = 4.899189 W = 0.9493644 b = 0.3024747\n",
      "Epoch 550 : cost = 4.895359 W = 0.9484395 b = 0.34879136\n",
      "Epoch 600 : cost = 4.892527 W = 0.94760907 b = 0.39037803\n",
      "Epoch 650 : cost = 4.8904743 W = 0.94686335 b = 0.4277197\n",
      "Epoch 700 : cost = 4.8890247 W = 0.9461938 b = 0.46124864\n",
      "Epoch 750 : cost = 4.8880415 W = 0.9455927 b = 0.49135473\n",
      "Epoch 800 : cost = 4.8874164 W = 0.94505286 b = 0.51838756\n",
      "Epoch 850 : cost = 4.887061 W = 0.9445682 b = 0.5426581\n",
      "Epoch 900 : cost = 4.886909 W = 0.9441331 b = 0.5644498\n",
      "Epoch 950 : cost = 4.886907 W = 0.94374233 b = 0.58401847\n",
      "Epoch 1000 : cost = 4.887014 W = 0.94339144 b = 0.6015903\n"
     ]
    }
   ],
   "source": [
    "# Starting the Tensorflow Session \n",
    "with tf.Session() as sess: \n",
    "      \n",
    "    # Initializing the Variables \n",
    "    sess.run(init) \n",
    "      \n",
    "    # Iterating through all the epochs \n",
    "    for epoch in range(training_epochs): \n",
    "          \n",
    "        # Feeding each data point into the optimizer using Feed Dictionary \n",
    "        for (_x, _y) in zip(x, y): \n",
    "            sess.run(optimizer, feed_dict = {X : _x, Y : _y}) \n",
    "          \n",
    "        # Displaying the result after every 50 epochs \n",
    "        if (epoch + 1) % 50 == 0: \n",
    "            # Calculating the cost a every epoch \n",
    "            c = sess.run(cost, feed_dict = {X : x, Y : y}) \n",
    "            print(\"Epoch\", (epoch + 1), \": cost =\", c, \"W =\", sess.run(W), \"b =\", sess.run(b)) \n",
    "      \n",
    "    # Storing necessary values to be used outside the Session \n",
    "    training_cost = sess.run(cost, feed_dict ={X: x, Y: y}) \n",
    "    weight = sess.run(W) \n",
    "    bias = sess.run(b) \n",
    "    #writes to tensorboard\n",
    "    file_writer = tf.summary.FileWriter(\"/Users/Shaun/tensor_output\", sess.graph)\n",
    "    #tensorboard --logdir=/Users/Shaun/tensor_output"
   ]
  },
  {
   "cell_type": "markdown",
   "metadata": {},
   "source": [
    "## Make predictions with our model\n",
    "\n",
    "Now that we have our weights and bias we have a model that can be used to make predictions given any new data.  We plot the regression line to see how our predictions look with actual data.\n",
    "\n",
    "What do you think?"
   ]
  },
  {
   "cell_type": "code",
   "execution_count": 9,
   "metadata": {},
   "outputs": [
    {
     "name": "stdout",
     "output_type": "stream",
     "text": [
      "Training cost = 4.887014 Weight = 0.94339144 bias = 0.6015903 \n",
      "\n"
     ]
    }
   ],
   "source": [
    "# Calculating the predictions based on the weights and bias from out algorithm\n",
    "predictions = weight * x + bias \n",
    "print(\"Training cost =\", training_cost, \"Weight =\", weight, \"bias =\", bias, '\\n') "
   ]
  },
  {
   "cell_type": "code",
   "execution_count": 10,
   "metadata": {},
   "outputs": [
    {
     "data": {
      "image/png": "[encoded data removed]",
      "text/plain": [
       "<matplotlib.figure.Figure at 0x182a47db70>"
      ]
     },
     "metadata": {},
     "output_type": "display_data"
    }
   ],
   "source": [
    "# Plotting the Results \n",
    "plt.plot(x, y, 'ro', label ='Original data') \n",
    "plt.plot(x, predictions, label ='Fitted line') \n",
    "plt.title('Linear Regression Result') \n",
    "plt.legend() \n",
    "plt.show() "
   ]
  },
  {
   "cell_type": "code",
   "execution_count": null,
   "metadata": {
    "collapsed": true
   },
   "outputs": [],
   "source": []
  }
 ],
 "metadata": {
  "kernelspec": {
   "display_name": "Python 3",
   "language": "python",
   "name": "python3"
  },
  "language_info": {
   "codemirror_mode": {
    "name": "ipython",
    "version": 3
   },
   "file_extension": ".py",
   "mimetype": "text/x-python",
   "name": "python",
   "nbconvert_exporter": "python",
   "pygments_lexer": "ipython3",
   "version": "3.6.0"
  }
 },
 "nbformat": 4,
 "nbformat_minor": 2
}
